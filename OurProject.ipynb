{
 "cells": [
  {
   "cell_type": "code",
   "execution_count": null,
   "metadata": {},
   "outputs": [],
   "source": [
    "import pandas as pd\n",
    "import matplotlib.pyplot as plt\n",
    "df = pd.read_csv(\"CS105 W24 Survey (Responses) - Form Responses 1.csv\")"
   ]
  },
  {
   "cell_type": "code",
   "execution_count": null,
   "metadata": {},
   "outputs": [],
   "source": [
    "# print(df['How often do you eat out or eat fast food a week?'])\n",
    "\n",
    "eating_fastfood_freq = df['How often do you eat out or eat fast food a week?'].value_counts()\n",
    "\n",
    "eating_fastfood_freq.plot(kind='bar')\n"
   ]
  },
  {
   "cell_type": "code",
   "execution_count": null,
   "metadata": {},
   "outputs": [],
   "source": [
    "# print(df['Where do you usually get your food? (Rank from where you frequent most to least) [Glascow/Lothian (Dining Halls)]'])\n",
    "eating_halls_freq = df['Where do you usually get your food? (Rank from where you frequent most to least) [Glascow/Lothian (Dining Halls)]'].value_counts().sort_index()\n",
    "eating_halls_freq.plot.bar()\n",
    "\n",
    "# etable = df.pivot_table(index=eating_halls_freq, columns=\"Where do you usually get your food? (Rank from where you frequent most to least) [Glascow/Lothian (Dining Halls)]\")"
   ]
  },
  {
   "cell_type": "code",
   "execution_count": null,
   "metadata": {},
   "outputs": [],
   "source": [
    "eating_hub_freq = df['Where do you usually get your food? (Rank from where you frequent most to least) [The Hub]'].value_counts().sort_index()\n",
    "eating_hub_freq.plot.bar()"
   ]
  },
  {
   "cell_type": "code",
   "execution_count": null,
   "metadata": {},
   "outputs": [],
   "source": [
    "eating_home_freq = df['Where do you usually get your food? (Rank from where you frequent most to least) [At home/bring meal from home]'].value_counts().sort_index()\n",
    "eating_home_freq.plot.bar()"
   ]
  },
  {
   "cell_type": "code",
   "execution_count": null,
   "metadata": {},
   "outputs": [],
   "source": [
    "eating_out_freq = df['Where do you usually get your food? (Rank from where you frequent most to least) [Eating Out - Going and Getting]'].value_counts().sort_index()\n",
    "eating_out_freq.plot.bar()"
   ]
  },
  {
   "cell_type": "code",
   "execution_count": null,
   "metadata": {},
   "outputs": [],
   "source": [
    "eating_delivery_freq = df['Where do you usually get your food? (Rank from where you frequent most to least) [Food Delivery]'].value_counts().sort_index()\n",
    "eating_delivery_freq.plot.bar()"
   ]
  },
  {
   "cell_type": "code",
   "execution_count": null,
   "metadata": {},
   "outputs": [],
   "source": [
    "eating_freq = pd.concat([eating_halls_freq, eating_hub_freq, eating_home_freq, eating_out_freq, eating_delivery_freq], axis=1)\n",
    "eating_graph = eating_freq.plot.bar()\n",
    "eating_graph.legend(['eating_halls_freq', 'eating_hub_freq', 'eating_home_freq', 'eating_out_freq', 'eating_delivery_freq'])\n",
    "eating_graph.plot(kind='bar')\n"
   ]
  },
  {
   "cell_type": "code",
   "execution_count": null,
   "metadata": {},
   "outputs": [],
   "source": [
    "eating_halls_question = 'Where do you usually get your food? (Rank from where you frequent most to least) [Glascow/Lothian (Dining Halls)]'\n",
    "# halls_condition = df[eating_halls_question] == '1 (Most Frequent)'\n",
    "# eating_halls_1s = df.loc[halls_condition]\n"
   ]
  },
  {
   "cell_type": "markdown",
   "metadata": {},
   "source": [
    "1. What data do you have? (Your answer)\n",
    "2. What would you like to know? (Your answer)\n",
    "3. Explore and present the data. (Generate statistics, perform visualizations)\n",
    "4. Can you state any hypotheses or make predictions? Which tests can you apply to\n",
    "verify your hypothesis? (Your answer).\n",
    "5. Test your hypotheses.\n",
    "6. Draw the overall conclusion.\n"
   ]
  }
 ],
 "metadata": {
  "kernelspec": {
   "display_name": "Python 3",
   "language": "python",
   "name": "python3"
  },
  "language_info": {
   "codemirror_mode": {
    "name": "ipython",
    "version": 3
   },
   "file_extension": ".py",
   "mimetype": "text/x-python",
   "name": "python",
   "nbconvert_exporter": "python",
   "pygments_lexer": "ipython3",
   "version": "3.11.3"
  }
 },
 "nbformat": 4,
 "nbformat_minor": 2
}
